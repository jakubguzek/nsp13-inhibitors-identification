{
  "nbformat": 4,
  "nbformat_minor": 0,
  "metadata": {
    "colab": {
      "provenance": []
    },
    "kernelspec": {
      "name": "python3",
      "display_name": "Python 3"
    },
    "language_info": {
      "name": "python"
    }
  },
  "cells": [
    {
      "cell_type": "code",
      "source": [
        "import sys\n",
        "import pandas as pd\n",
        "import numpy as np\n",
        "\n",
        "from sklearn.ensemble import RandomForestRegressor\n",
        "from sklearn.preprocessing import MinMaxScaler\n",
        "from sklearn.model_selection import *\n",
        "from sklearn.svm import SVR\n",
        "from score_metrics import rmse, spearman, mcc, multiclass_mcc\n",
        "\n",
        "from sklearn.model_selection import cross_val_predict\n",
        "from sklearn.model_selection import GridSearchCV\n",
        "from sklearn.model_selection import train_test_split"
      ],
      "metadata": {
        "id": "ZPtikXCrNSMU"
      },
      "execution_count": 1,
      "outputs": []
    },
    {
      "cell_type": "code",
      "source": [
        "def get_features_df(activities_file, compound_ft_file, target_ft_file=None):\n",
        "    activities = pd.read_csv(activities_file, sep=',')\n",
        "    compounds = pd.read_csv(compound_ft_file, sep=',')\n",
        "    activities = activities[activities[\"type\"] == \"IC50\"]\n",
        "    activities = activities[[\"target_chembl_id\",\n",
        "                             \"molecule_chembl_id\", \"standard_value\"]].dropna()\n",
        "    features = activities.merge(compounds, on=\"molecule_chembl_id\")\n",
        "    features[\"standard_value\"] = features[\"standard_value\"]/1000\n",
        "\n",
        "    if target_ft_file:\n",
        "        targets = pd.read_csv(target_ft_file, sep=',', header=None)\n",
        "        targets.columns = [\"target_chembl_id\"] + \\\n",
        "            [f\"prot_ft_{i}\" for i in range(targets.shape[1]-1)]\n",
        "        features = features[features[\"target_chembl_id\"].isin(\n",
        "            targets[\"target_chembl_id\"])]\n",
        "        features = features.merge(targets, on=\"target_chembl_id\")\n",
        "\n",
        "    features.to_csv(\"features.csv\", index=False)\n",
        "    return features"
      ],
      "metadata": {
        "id": "DdVvE1HTSRHW"
      },
      "execution_count": 2,
      "outputs": []
    },
    {
      "cell_type": "code",
      "execution_count": 10,
      "metadata": {
        "id": "4dzUFU0oMUD7"
      },
      "outputs": [],
      "source": [
        "def SVR_model(input):\n",
        "    input = input.sample(frac=1).reset_index(drop=True)\n",
        "    y = input[\"standard_value\"]\n",
        "    X_train, X_test, y_train, y_test = train_test_split(input, y, test_size=0.2, random_state=0)\n",
        "\n",
        "    if \"prot_ft_0\" in X_train.columns: # if we use protein features\n",
        "        prot_cols = [col for col in X_train.columns if col.startswith(\"prot_ft\")]\n",
        "        scaler = MinMaxScaler()\n",
        "        X_train[prot_cols] = scaler.fit_transform(X_train[prot_cols])\n",
        "        X_test[prot_cols] = scaler.transform(X_test[prot_cols])\n",
        "\n",
        "    # find best parameters\n",
        "    param_grid = {'C': [0.1, 10, 1000, 5000, 10000, 50000, 100000], 'gamma': [0.001, 0.005, 0.01, 0.05, 0.1, 0.5, 1]}\n",
        "    gs = GridSearchCV(SVR(), param_grid, cv=10, n_jobs=-1, scoring='neg_root_mean_squared_error')\n",
        "    gs.fit(X_train.iloc[:, 3:], y_train)\n",
        "    print(\"Grid Search\")\n",
        "    print(\"best params: \", gs.best_params_)\n",
        "    print(pd.concat([pd.DataFrame(gs.cv_results_[\"params\"]), pd.DataFrame(-gs.cv_results_[\"mean_test_score\"], columns=[\"RMSE\"])],axis=1))\n",
        "\n",
        "    # test\n",
        "    model = SVR(C=gs.best_params_['C'], gamma=gs.best_params_['gamma'])\n",
        "    model.fit(X_train.iloc[:, 3:], y_train)\n",
        "    pred = model.predict(X_test.iloc[:, 3:])\n",
        "    test_result = X_test.iloc[:, :3]\n",
        "    test_result['predicted'] = pred\n",
        "    test_result.to_csv(\"SVR_model_test.tsv\", sep=\"\\t\", index=False)\n",
        "    print(\"Test set results:\")\n",
        "    print(f\"RMSE: {rmse(pred, y_test)}, Spearman: {spearman(pred, y_test)}, MCC: {mcc(pred, y_test.to_numpy(), np.median(y_test))}\")\n",
        "    return model\n"
      ]
    },
    {
      "cell_type": "code",
      "source": [
        "def RF_model(input):\n",
        "    input = input.sample(frac=1).reset_index(drop=True)\n",
        "    y = input[\"standard_value\"]\n",
        "    X_train, X_test, y_train, y_test = train_test_split(input, y, test_size=0.2, random_state=0)\n",
        "\n",
        "    if \"prot_ft_0\" in X_train.columns: # if we use protein features\n",
        "        prot_cols = [col for col in X_train.columns if col.startswith(\"prot_ft\")]\n",
        "        scaler = MinMaxScaler()\n",
        "        X_train[prot_cols] = scaler.fit_transform(X_train[prot_cols])\n",
        "        X_test[prot_cols] = scaler.transform(X_test[prot_cols])\n",
        "\n",
        "    # find best parameters\n",
        "    param_grid = {'n_estimators': [10, 100, 1000], 'max_features': ['sqrt', 'log2'], 'max_depth': [5, 10, 20, 50]}\n",
        "    gs = GridSearchCV(RandomForestRegressor(), param_grid, cv=10, n_jobs=-1, scoring='neg_root_mean_squared_error', verbose=4)\n",
        "    gs.fit(X_train.iloc[:, 3:], y_train)\n",
        "    print(\"Grid Search\")\n",
        "    print(\"best params: \", gs.best_params_)\n",
        "    print(pd.concat([pd.DataFrame(gs.cv_results_[\"params\"]), pd.DataFrame(-gs.cv_results_[\"mean_test_score\"], columns=[\"RMSE\"])],axis=1))\n",
        "\n",
        "    # test\n",
        "    model = RandomForestRegressor(n_estimators=gs.best_params_['n_estimators'], max_features=gs.best_params_['max_features'], max_depth=gs.best_params_['max_depth'])\n",
        "    model.fit(X_train.iloc[:, 3:], y_train)\n",
        "    pred = model.predict(X_test.iloc[:, 3:])\n",
        "    test_result = X_test.iloc[:, :3]\n",
        "    test_result['predicted'] = pred\n",
        "    test_result.to_csv(\"RF_model_test.tsv\", sep=\"\\t\", index=False)\n",
        "    print(\"Test set results:\")\n",
        "    print(f\"RMSE: {rmse(pred, y_test)}, Spearman: {spearman(pred, y_test)}, MCC: {mcc(pred, y_test.to_numpy(), np.median(y_test))}\")\n",
        "    return model\n"
      ],
      "metadata": {
        "id": "i4tVFosTpEyR"
      },
      "execution_count": 7,
      "outputs": []
    },
    {
      "cell_type": "code",
      "source": [
        "activities_file = \"activities.csv\"\n",
        "compound_ft_file = \"ligands_ecfp4.csv\"\n",
        "target_ft_file = \"targets_embedding.csv\"\n",
        "\n",
        "input = get_features_df(activities_file, compound_ft_file, target_ft_file)\n",
        "svr = SVR_model(input)\n"
      ],
      "metadata": {
        "colab": {
          "base_uri": "https://localhost:8080/"
        },
        "id": "065eW7NXNaeI",
        "outputId": "49ec90bb-d9c3-4e81-81eb-a8460dcb9cf7"
      },
      "execution_count": 11,
      "outputs": [
        {
          "output_type": "stream",
          "name": "stdout",
          "text": [
            "Grid Search\n",
            "best params:  {'C': 50000, 'gamma': 0.05}\n",
            "           C  gamma       RMSE\n",
            "0        0.1  0.001  28.552355\n",
            "1        0.1  0.005  28.104035\n",
            "2        0.1  0.010  28.157924\n",
            "3        0.1  0.050  28.602292\n",
            "4        0.1  0.100  28.702807\n",
            "5        0.1  0.500  28.769331\n",
            "6        0.1  1.000  28.769687\n",
            "7       10.0  0.001  25.653438\n",
            "8       10.0  0.005  24.047716\n",
            "9       10.0  0.010  23.173627\n",
            "10      10.0  0.050  21.555299\n",
            "11      10.0  0.100  22.061921\n",
            "12      10.0  0.500  24.012561\n",
            "13      10.0  1.000  24.032781\n",
            "14    1000.0  0.001  17.774351\n",
            "15    1000.0  0.005  17.831181\n",
            "16    1000.0  0.010  17.601476\n",
            "17    1000.0  0.050  17.458692\n",
            "18    1000.0  0.100  17.972520\n",
            "19    1000.0  0.500  18.767075\n",
            "20    1000.0  1.000  18.780880\n",
            "21    5000.0  0.001  17.796830\n",
            "22    5000.0  0.005  17.783363\n",
            "23    5000.0  0.010  17.601476\n",
            "24    5000.0  0.050  17.458692\n",
            "25    5000.0  0.100  17.972520\n",
            "26    5000.0  0.500  18.767075\n",
            "27    5000.0  1.000  18.780879\n",
            "28   10000.0  0.001  18.296952\n",
            "29   10000.0  0.005  17.783348\n",
            "30   10000.0  0.010  17.601462\n",
            "31   10000.0  0.050  17.458692\n",
            "32   10000.0  0.100  17.972520\n",
            "33   10000.0  0.500  18.767075\n",
            "34   10000.0  1.000  18.780880\n",
            "35   50000.0  0.001  18.688509\n",
            "36   50000.0  0.005  17.783345\n",
            "37   50000.0  0.010  17.601481\n",
            "38   50000.0  0.050  17.458692\n",
            "39   50000.0  0.100  17.972520\n",
            "40   50000.0  0.500  18.767075\n",
            "41   50000.0  1.000  18.780878\n",
            "42  100000.0  0.001  18.688501\n",
            "43  100000.0  0.005  17.783356\n",
            "44  100000.0  0.010  17.601479\n",
            "45  100000.0  0.050  17.458692\n",
            "46  100000.0  0.100  17.972520\n",
            "47  100000.0  0.500  18.767074\n",
            "48  100000.0  1.000  18.780880\n",
            "Test set results:\n",
            "RMSE: 24.02495851321072, Spearman: 0.653828574378809, MCC: 0.5284193913361779\n"
          ]
        }
      ]
    },
    {
      "cell_type": "code",
      "source": [
        "rf = RF_model(input)\n"
      ],
      "metadata": {
        "colab": {
          "base_uri": "https://localhost:8080/"
        },
        "id": "QPUzVV6EIpNC",
        "outputId": "b86a7b06-241c-44b2-f6ab-9a8667127fe6"
      },
      "execution_count": 9,
      "outputs": [
        {
          "output_type": "stream",
          "name": "stdout",
          "text": [
            "Fitting 10 folds for each of 24 candidates, totalling 240 fits\n",
            "Grid Search\n",
            "best params:  {'max_depth': 50, 'max_features': 'sqrt', 'n_estimators': 10}\n",
            "    max_depth max_features  n_estimators       RMSE\n",
            "0           5         sqrt            10  22.622332\n",
            "1           5         sqrt           100  21.923000\n",
            "2           5         sqrt          1000  21.864957\n",
            "3           5         log2            10  22.579709\n",
            "4           5         log2           100  21.905901\n",
            "5           5         log2          1000  22.003245\n",
            "6          10         sqrt            10  19.949947\n",
            "7          10         sqrt           100  20.081952\n",
            "8          10         sqrt          1000  20.386452\n",
            "9          10         log2            10  20.643180\n",
            "10         10         log2           100  20.416043\n",
            "11         10         log2          1000  20.418404\n",
            "12         20         sqrt            10  20.649639\n",
            "13         20         sqrt           100  19.858678\n",
            "14         20         sqrt          1000  19.891766\n",
            "15         20         log2            10  20.216065\n",
            "16         20         log2           100  19.536406\n",
            "17         20         log2          1000  19.619730\n",
            "18         50         sqrt            10  19.275581\n",
            "19         50         sqrt           100  20.046858\n",
            "20         50         sqrt          1000  19.922681\n",
            "21         50         log2            10  20.968221\n",
            "22         50         log2           100  19.750563\n",
            "23         50         log2          1000  19.589032\n",
            "Test set results:\n",
            "RMSE: 29.56155116161014, Spearman: 0.5411073098706053, MCC: 0.49236596391733095\n"
          ]
        }
      ]
    }
  ]
}